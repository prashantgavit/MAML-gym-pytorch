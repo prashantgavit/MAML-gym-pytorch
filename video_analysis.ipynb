{
 "cells": [
  {
   "cell_type": "code",
   "execution_count": 1,
   "id": "0406c0bc-c2c0-45a2-9610-f4be0fb18f5e",
   "metadata": {
    "tags": []
   },
   "outputs": [],
   "source": [
    "import io\n",
    "import os\n",
    "import base64\n",
    "from IPython.display import HTML\n",
    "\n"
   ]
  },
  {
   "cell_type": "code",
   "execution_count": 2,
   "id": "6b1dd346-cbcc-45f2-9649-193817e016e5",
   "metadata": {
    "tags": []
   },
   "outputs": [],
   "source": [
    "def show_video(video_path):\n",
    "    if not os.path.exists(video_path):\n",
    "        raise FileNotFoundError(f\"{video_path} does not exist\")\n",
    "\n",
    "    video_encoded = base64.b64encode(open(video_path, \"rb\").read()).decode(\"ascii\")\n",
    "    return HTML(f\"\"\"\n",
    "    <video width=\"640\" height=\"480\" controls>\n",
    "        <source src=\"data:video/mp4;base64,{video_encoded}\" type=\"video/mp4\">\n",
    "    </video>\n",
    "    \"\"\")\n",
    "\n",
    "import glob"
   ]
  },
  {
   "cell_type": "code",
   "execution_count": 3,
   "id": "ca81ea69-478a-401d-9d21-6f621506b909",
   "metadata": {
    "tags": []
   },
   "outputs": [
    {
     "name": "stdout",
     "output_type": "stream",
     "text": [
      "No video file found.\n"
     ]
    }
   ],
   "source": [
    "video_files = glob.glob('./video_gradient_0_maml_0/openaigym.video.0.213928.video000000.mp4')\n",
    "video_files.sort()  # Optional: show latest\n",
    "\n",
    "if video_files:\n",
    "    display(show_video(video_files[0]))\n",
    "else:\n",
    "    print(\"No video file found.\")"
   ]
  },
  {
   "cell_type": "code",
   "execution_count": 4,
   "id": "fde73649-2b59-4284-b6ef-87b01fccae00",
   "metadata": {
    "tags": []
   },
   "outputs": [
    {
     "name": "stdout",
     "output_type": "stream",
     "text": [
      "No video file found.\n"
     ]
    }
   ],
   "source": [
    "video_files = glob.glob('./video_gradient_1_maml_0/openaigym.video.0.213096.video000000.mp4')\n",
    "video_files.sort()  # Optional: show latest\n",
    "\n",
    "if video_files:\n",
    "    display(show_video(video_files[0]))\n",
    "else:\n",
    "    print(\"No video file found.\")"
   ]
  },
  {
   "cell_type": "code",
   "execution_count": 5,
   "id": "93376e37-4657-486c-9399-dc3fc5381598",
   "metadata": {},
   "outputs": [
    {
     "name": "stdout",
     "output_type": "stream",
     "text": [
      "No video file found.\n"
     ]
    }
   ],
   "source": [
    "\n",
    "video_files = glob.glob('./video_gradient_2_maml_0/openaigym.video.0.213029.video000000.mp4')\n",
    "video_files.sort()  # Optional: show latest\n",
    "\n",
    "if video_files:\n",
    "    display(show_video(video_files[0]))\n",
    "else:\n",
    "    print(\"No video file found.\")\n"
   ]
  },
  {
   "cell_type": "code",
   "execution_count": 6,
   "id": "c78d16a5-ceaf-4442-a2a0-6519d7f5de3e",
   "metadata": {},
   "outputs": [
    {
     "name": "stdout",
     "output_type": "stream",
     "text": [
      "No video file found.\n"
     ]
    }
   ],
   "source": [
    "\n",
    "video_files = glob.glob('./video_gradient_3_maml_0/openaigym.video.0.212966.video000000.mp4')\n",
    "video_files.sort()  # Optional: show latest\n",
    "\n",
    "if video_files:\n",
    "    display(show_video(video_files[0]))\n",
    "else:\n",
    "    print(\"No video file found.\")\n"
   ]
  },
  {
   "cell_type": "code",
   "execution_count": 7,
   "id": "6d86a1d6-9fbb-42ad-a207-91a7f1627acb",
   "metadata": {
    "tags": []
   },
   "outputs": [
    {
     "name": "stdout",
     "output_type": "stream",
     "text": [
      "No video file found.\n"
     ]
    }
   ],
   "source": [
    "\n",
    "video_files = glob.glob('./video/output.mp4')\n",
    "video_files.sort()  # Optional: show latest\n",
    "\n",
    "if video_files:\n",
    "    display(show_video(video_files[0]))\n",
    "else:\n",
    "    print(\"No video file found.\")\n"
   ]
  },
  {
   "cell_type": "code",
   "execution_count": 8,
   "id": "a2a3ba62-a557-420b-8791-c13f869dcbe2",
   "metadata": {
    "tags": []
   },
   "outputs": [
    {
     "name": "stdout",
     "output_type": "stream",
     "text": [
      "No video file found.\n"
     ]
    }
   ],
   "source": [
    "\n",
    "video_files = glob.glob('./video_gradient_1_maml_1/openaigym.video.0.212528.video000000.mp4')\n",
    "video_files.sort()  # Optional: show latest\n",
    "\n",
    "if video_files:\n",
    "    display(show_video(video_files[0]))\n",
    "else:\n",
    "    print(\"No video file found.\")\n"
   ]
  },
  {
   "cell_type": "code",
   "execution_count": 9,
   "id": "6a0ebe77-ff6a-4539-a127-04509b698b5f",
   "metadata": {
    "tags": []
   },
   "outputs": [
    {
     "name": "stdout",
     "output_type": "stream",
     "text": [
      "No video file found.\n"
     ]
    }
   ],
   "source": [
    "\n",
    "video_files = glob.glob('./video_gradient_2_maml_1/openaigym.video.0.212589.video000000.mp4')\n",
    "video_files.sort()  # Optional: show latest\n",
    "\n",
    "if video_files:\n",
    "    display(show_video(video_files[0]))\n",
    "else:\n",
    "    print(\"No video file found.\")\n"
   ]
  },
  {
   "cell_type": "code",
   "execution_count": 10,
   "id": "13cf5528-567e-4f36-8d30-c5c217bde7d4",
   "metadata": {
    "tags": []
   },
   "outputs": [
    {
     "name": "stdout",
     "output_type": "stream",
     "text": [
      "No video file found.\n"
     ]
    }
   ],
   "source": [
    "\n",
    "video_files = glob.glob('./video_gradient_3_maml_1/openaigym.video.0.212647.video000000.mp4')\n",
    "video_files.sort()  # Optional: show latest\n",
    "\n",
    "if video_files:\n",
    "    display(show_video(video_files[0]))\n",
    "else:\n",
    "    print(\"No video file found.\")\n"
   ]
  },
  {
   "cell_type": "code",
   "execution_count": null,
   "id": "ee58b405-598b-4724-a89b-ef8ed4f3a460",
   "metadata": {},
   "outputs": [],
   "source": []
  }
 ],
 "metadata": {
  "kernelspec": {
   "display_name": "Python 3.7 (maml_v4)",
   "language": "python",
   "name": "maml_v4"
  },
  "language_info": {
   "codemirror_mode": {
    "name": "ipython",
    "version": 3
   },
   "file_extension": ".py",
   "mimetype": "text/x-python",
   "name": "python",
   "nbconvert_exporter": "python",
   "pygments_lexer": "ipython3",
   "version": "3.7.16"
  }
 },
 "nbformat": 4,
 "nbformat_minor": 5
}
