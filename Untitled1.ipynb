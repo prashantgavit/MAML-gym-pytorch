{
 "cells": [
  {
   "cell_type": "code",
   "execution_count": 3,
   "id": "0fd6538c-5dd7-44db-856a-68c2b5f762d1",
   "metadata": {},
   "outputs": [],
   "source": [
    "import pickle\n",
    "\n",
    "with open('episodes.pkl', 'rb') as f:\n",
    "    data = pickle.load(f)\n",
    "\n",
    "# Access\n",
    "tasks = data['tasks']\n",
    "train_episodes = data['train_episodes']\n",
    "valid_episodes = data['valid_episodes']\n"
   ]
  },
  {
   "cell_type": "code",
   "execution_count": 9,
   "id": "b502f03a-e561-4501-bca4-76baae050303",
   "metadata": {},
   "outputs": [],
   "source": [
    "a = train_episodes[0][0]"
   ]
  },
  {
   "cell_type": "code",
   "execution_count": 24,
   "id": "8c8fd1dd-8c09-486a-84f9-2890390eed0b",
   "metadata": {
    "tags": []
   },
   "outputs": [],
   "source": [
    "a = train_episodes[0][0]"
   ]
  },
  {
   "cell_type": "code",
   "execution_count": 27,
   "id": "d541f7a5-946e-43d0-b676-5cd97cc86b21",
   "metadata": {
    "tags": []
   },
   "outputs": [
    {
     "data": {
      "text/plain": [
       "torch.Size([100, 20, 6])"
      ]
     },
     "execution_count": 27,
     "metadata": {},
     "output_type": "execute_result"
    }
   ],
   "source": [
    "a.actions.shape"
   ]
  },
  {
   "cell_type": "code",
   "execution_count": 28,
   "id": "60951547-dbcc-414d-b452-7e3907b083f3",
   "metadata": {
    "tags": []
   },
   "outputs": [
    {
     "data": {
      "text/plain": [
       "torch.Size([100, 20, 20])"
      ]
     },
     "execution_count": 28,
     "metadata": {},
     "output_type": "execute_result"
    }
   ],
   "source": [
    "a.observations.shape"
   ]
  },
  {
   "cell_type": "code",
   "execution_count": 30,
   "id": "b6252c5a-fd44-40c4-83af-6dc5e6d34a2c",
   "metadata": {
    "tags": []
   },
   "outputs": [],
   "source": [
    "import imageio\n",
    "from gym.wrappers import Monitor\n"
   ]
  },
  {
   "cell_type": "code",
   "execution_count": null,
   "id": "432812a5-60e3-4aec-a03b-baf734da0ea3",
   "metadata": {},
   "outputs": [],
   "source": []
  }
 ],
 "metadata": {
  "kernelspec": {
   "display_name": "Python 3.7 (maml_v4)",
   "language": "python",
   "name": "maml_v4"
  },
  "language_info": {
   "codemirror_mode": {
    "name": "ipython",
    "version": 3
   },
   "file_extension": ".py",
   "mimetype": "text/x-python",
   "name": "python",
   "nbconvert_exporter": "python",
   "pygments_lexer": "ipython3",
   "version": "3.7.16"
  }
 },
 "nbformat": 4,
 "nbformat_minor": 5
}
